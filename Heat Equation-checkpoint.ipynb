{
 "cells": [
  {
   "cell_type": "code",
   "execution_count": 1,
   "id": "810e1e77-8f96-4395-a6dd-00206502d3f5",
   "metadata": {},
   "outputs": [],
   "source": [
    "import numpy as np\n",
    "import matplotlib.pyplot as plt\n",
    "from matplotlib.backends.backend_pdf import PdfPages"
   ]
  },
  {
   "cell_type": "code",
   "execution_count": 2,
   "id": "67469d43-900d-4fc8-b6e3-771a57d6cb41",
   "metadata": {},
   "outputs": [],
   "source": [
    "nx, ny=100, 100       #x and y points\n",
    "dx=dy=0.01            #grid space\n",
    "alpha=0.05            #thermal diffusion\n",
    "dt=0.003              #time step \n",
    "time_steps=300        #time"
   ]
  },
  {
   "cell_type": "code",
   "execution_count": 3,
   "id": "df23c91e-d75d-4b73-8d05-1a3b833970ec",
   "metadata": {},
   "outputs": [
    {
     "name": "stdout",
     "output_type": "stream",
     "text": [
      "Time step 0.003 is large for stability (max=0.000).\n"
     ]
    }
   ],
   "source": [
    "stability=(dx**2)/(5*alpha)     #Set a stability to avoid error results\n",
    "if dt>stability:\n",
    "    print(f'Time step {dt} is large for stability (max={stability:.3f}).')"
   ]
  },
  {
   "cell_type": "code",
   "execution_count": 4,
   "id": "bd165177-eb28-4134-b961-6328a5547d37",
   "metadata": {},
   "outputs": [],
   "source": [
    "u=np.zeros((nx,ny))      #array\n",
    "u[int(nx/4),int(ny/4)]=200      #temperature "
   ]
  },
  {
   "cell_type": "code",
   "execution_count": 5,
   "id": "bbd5a959-dbb2-4b22-8527-679f8781c956",
   "metadata": {},
   "outputs": [
    {
     "data": {
      "text/plain": [
       "<contextlib.ExitStack at 0x28f4fe70da0>"
      ]
     },
     "execution_count": 5,
     "metadata": {},
     "output_type": "execute_result"
    },
    {
     "data": {
      "text/plain": [
       "<Figure size 1000x700 with 0 Axes>"
      ]
     },
     "metadata": {},
     "output_type": "display_data"
    }
   ],
   "source": [
    "plt.figure(figsize=(10, 7))  #set figure dimensions\n",
    "plt.ion()"
   ]
  },
  {
   "cell_type": "code",
   "execution_count": 6,
   "id": "f4133b83-4559-48cb-8d4d-034c4978955e",
   "metadata": {},
   "outputs": [
    {
     "name": "stderr",
     "output_type": "stream",
     "text": [
      "C:\\Users\\menna\\AppData\\Local\\Temp\\ipykernel_12644\\824318923.py:12: RuntimeWarning: overflow encountered in scalar add\n",
      "  (u[i + 1, j] - 2 * u[i, j] + u[i - 1, j]) / dx**2 +\n",
      "C:\\Users\\menna\\AppData\\Local\\Temp\\ipykernel_12644\\824318923.py:12: RuntimeWarning: overflow encountered in scalar divide\n",
      "  (u[i + 1, j] - 2 * u[i, j] + u[i - 1, j]) / dx**2 +\n",
      "C:\\Users\\menna\\AppData\\Local\\Temp\\ipykernel_12644\\824318923.py:13: RuntimeWarning: overflow encountered in scalar divide\n",
      "  (u[i, j + 1] - 2 * u[i, j] + u[i, j - 1]) / dy**2)\n",
      "C:\\Users\\menna\\AppData\\Local\\Temp\\ipykernel_12644\\824318923.py:11: RuntimeWarning: invalid value encountered in scalar add\n",
      "  u_copy[i, j] = u[i, j] + alpha * dt * (\n",
      "C:\\Users\\menna\\anaconda3\\Lib\\site-packages\\matplotlib\\image.py:463: RuntimeWarning: overflow encountered in scalar multiply\n",
      "  newmin = vmid - dv * fact\n",
      "C:\\Users\\menna\\anaconda3\\Lib\\site-packages\\matplotlib\\image.py:468: RuntimeWarning: overflow encountered in scalar multiply\n",
      "  newmax = vmid + dv * fact\n"
     ]
    },
    {
     "data": {
      "text/plain": [
       "<Figure size 1000x700 with 0 Axes>"
      ]
     },
     "metadata": {},
     "output_type": "display_data"
    }
   ],
   "source": [
    "with PdfPages('visualizations.pdf') as pdf_pages:\n",
    "    \n",
    "    plt.figure(figsize=(10, 7))  #figure size\n",
    "    plt.ion()  #interactive mode\n",
    "    \n",
    "    for time in range(time_steps):  #time \n",
    "        u_copy = np.copy(u)\n",
    "        \n",
    "        for i in range(1, nx - 1):  # Loop over inner points\n",
    "            for j in range(1, ny - 1):\n",
    "                u_copy[i, j] = u[i, j] + alpha * dt * (\n",
    "                    (u[i + 1, j] - 2 * u[i, j] + u[i - 1, j]) / dx**2 +\n",
    "                    (u[i, j + 1] - 2 * u[i, j] + u[i, j - 1]) / dy**2)\n",
    "                \n",
    "        #boundaries\n",
    "        u_copy[0, :] = 0       # bottom\n",
    "        u_copy[-1, :] = 0      # top\n",
    "        u_copy[:, 0] = 0       # left\n",
    "        u_copy[:, -1] = 0      # right\n",
    "        u[:] = u_copy[:]  #copy updates value to u\n",
    "\n",
    "        if time % 7 == 0: #show a simulation every 7 time steps\n",
    "            plt.imshow(u, cmap='hot', origin='lower', extent=[0, nx*dx, 0, ny*dy])\n",
    "            plt.colorbar(label='Temperature')\n",
    "            plt.title(f'2D Heat Equation - Time Step {time}')\n",
    "            plt.xlabel('x')\n",
    "            plt.ylabel('y')\n",
    "\n",
    "            pdf_pages.savefig()   #save plot\n",
    "            plt.clf()  #clear figure\n",
    "    \n",
    "    plt.show()"
   ]
  }
 ],
 "metadata": {
  "kernelspec": {
   "display_name": "Python 3 (ipykernel)",
   "language": "python",
   "name": "python3"
  },
  "language_info": {
   "codemirror_mode": {
    "name": "ipython",
    "version": 3
   },
   "file_extension": ".py",
   "mimetype": "text/x-python",
   "name": "python",
   "nbconvert_exporter": "python",
   "pygments_lexer": "ipython3",
   "version": "3.12.7"
  }
 },
 "nbformat": 4,
 "nbformat_minor": 5
}
